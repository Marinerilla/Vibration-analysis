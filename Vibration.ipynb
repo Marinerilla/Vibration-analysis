{
 "cells": [
  {
   "cell_type": "markdown",
   "metadata": {},
   "source": [
    "# Transverse Vibration of a uniform Euler-Bernoilli beam:"
   ]
  },
  {
   "cell_type": "markdown",
   "metadata": {},
   "source": [
    " Let us consider a uniform Euler-Bernoulli beam of length $L$.  Transverse Vibrations of the bean are given by the following Partial Differential Equation of motion:\n"
   ]
  },
  {
   "cell_type": "markdown",
   "metadata": {},
   "source": [
    "$\\cfrac{\\partial^{2}u(x,t)}{\\partial t^2}+c^2\\cfrac{\\partial^{4}u(x,t)}{\\partial t^4}= 0;\\\\ \\mathrm{where}\\,\\,\\,\\,\\,  \\, c^2 = \\cfrac {EI}{\\rho A}; \\, \\mathrm{and} \\,\\,\\,\\,\\,\\, \\omega_n = c\\beta_n^2 = \\beta_n^2 \\sqrt{\\cfrac {EI}{\\rho A}} $"
   ]
  },
  {
   "cell_type": "markdown",
   "metadata": {},
   "source": [
    "Where the general solution is given by the following equation from which the natural frequencies may be found:\n",
    "\n"
   ]
  },
  {
   "cell_type": "markdown",
   "metadata": {},
   "source": [
    "$F(x) = A cos(\\beta x)+B sin(\\beta x)+C cosh(\\beta x)+ D sinh(\\beta x)$\n",
    "\n",
    "The function $F(x)$ is known as the normal mode or characteristic function of the beam and $\\omega$ is called the natural frequency of vibration. For a beam, there will be an infinite number of normal modes with one natural frequenc  associated with each normal mode. The unknown constants $A$ to $D$ in the previous equation and the value of $\\beta$ can be determined from the boundary conditions of the beam as indicated below."
   ]
  },
  {
   "cell_type": "markdown",
   "metadata": {},
   "source": [
    "Boundary Condition| Frequency equation | Mode Shape                                                  |\n",
    "  -------------   | -------------------| ------------------------------------------------------------|\n",
    "  Free-Free  | cos $\\beta_n L$cosh$(\\beta_n L) = 1$| $P_n(x)$$-\\cfrac{Q_n(L)}{S_n(L)}$$R_n(x)$ \n",
    "  Fixed-Free  |cos $\\beta_n L$cosh$(\\beta_n L) = -1$ |$Q_n(x)$ $-\\cfrac {S_n(L)}{P_n(L)}$$ S_n(x)$ \n",
    "  Fixed-Pinned|tan $\\beta_n L-$ tanh$\\beta_n L = 0$ |$Q_n(x)$$-\\cfrac {Q_n(L)}{S_n(L)}$$ S_n(x)$ \n",
    "  Fixed-Fixed |cos $\\beta_n L$cosh$(\\beta_n L) = 1$ |$Q_n(x)$$-\\cfrac {Q_n(L)}{S_n(L)}$$ S_n(x)$ \n",
    "  Pinned-Pinned |sin$\\beta_n L = 0$ | sin $\\cfrac{n\\pi x}{L}$"
   ]
  },
  {
   "cell_type": "markdown",
   "metadata": {},
   "source": [
    "where $(\\beta_nL)^2$ are the spatial frequencies"
   ]
  },
  {
   "cell_type": "markdown",
   "metadata": {},
   "source": [
    "and we also have,\n",
    "$$P_n(x) = cosh\\beta_nx + cos\\beta_nx $$\n",
    "$$Q_n(x) = cosh\\beta_nx - cos\\beta_nx $$\n",
    "$$R_n(x) = sinh\\beta_nx + sin\\beta_nx $$\n",
    "$$S_n(x) = sinh\\beta_nx - sin\\beta_nx $$"
   ]
  },
  {
   "cell_type": "markdown",
   "metadata": {},
   "source": [
    "## Initialization"
   ]
  },
  {
   "cell_type": "code",
   "execution_count": null,
   "metadata": {},
   "outputs": [],
   "source": [
    "import numpy as np\n",
    "from matplotlib import pyplot as plt\n",
    "from scipy.optimize import fsolve\n",
    "%matplotlib inline"
   ]
  },
  {
   "cell_type": "markdown",
   "metadata": {},
   "source": [
    "## Input "
   ]
  },
  {
   "cell_type": "markdown",
   "metadata": {},
   "source": [
    "Here as input, we will take values of Length L (in $m$), radius  R (in $m$) of the beam and material properties: Youngs modulus E (in $Pa$) and density $\\rho$ (in $kg/m^3$)."
   ]
  },
  {
   "cell_type": "code",
   "execution_count": null,
   "metadata": {},
   "outputs": [],
   "source": [
    "print(\"Consider a beam with circular cross section. Enter parameters,\")\n",
    "L = float(input('Enter Length (L) in [m]=  ')) # insert 1 (i.e.)\n",
    "R = float(input('Enter Radius (r) in [m], [r << L]= '))  # insert 0.02 (i.e.)\n",
    "Ix = (1/4)*np.pi*R**4\n",
    "A = np.pi*R**2\n",
    "# input('Enter Young\"s modulus in [Pa]=  ') \n",
    "E = float(input(\"Enter Young's modulus in [GPa],[i.e. Al~70]=  \"))*1e9  # e.g. 70e9 Pa\n",
    "# insert 70e9 Pa i.e. for aluminium\n",
    "Rho = 27e3  #aluminium"
   ]
  },
  {
   "cell_type": "markdown",
   "metadata": {
    "collapsed": true
   },
   "source": [
    "Initial values of $\\beta_n L$ are:"
   ]
  },
  {
   "cell_type": "code",
   "execution_count": null,
   "metadata": {},
   "outputs": [],
   "source": [
    "a0 = np.array([4.7, 7.2, 10.8, 14])   # for boundarie condition Free-Free & Fixed-Fixed\n",
    "z0 = np.array([1.8, 4.7, 7.2, 10.8])  # for boundarie condition Fixed-Free\n",
    "u0 = np.array([3.7, 6, 10, 13])       # for Bc Fixed-Pinned\n",
    "p0 = np.array([3, 6.2, 9.3, 12.5])    # for Pinned-Pinned"
   ]
  },
  {
   "cell_type": "code",
   "execution_count": null,
   "metadata": {},
   "outputs": [],
   "source": [
    "def a(x):\n",
    "    return np.cos(x)*np.cosh(x)-1\n",
    "def z(x):\n",
    "    return np.cos(x)*np.cosh(x)+1\n",
    "def u(x):\n",
    "    return np.tan(x)-np.tanh(x)\n",
    "def p(x):\n",
    "    return np.sin(x)\n",
    "\n",
    "an = np.zeros_like(a0)\n",
    "zn = np.zeros_like(a0)\n",
    "un = np.zeros_like(a0)\n",
    "pn = np.zeros_like(a0) \n",
    "\n",
    "for i in range(len(a0)): \n",
    "# fsolve to obtain the spatial frecuencies\n",
    "    an[i] = fsolve(a, a0[i])  # FeFe & FiFi\n",
    "    zn[i] = fsolve(z, z0[i])  # FiFe\n",
    "    un[i] = fsolve(u, u0[i])  # FiPi\n",
    "    pn[i] = fsolve(p, p0[i])  # PiPi\n",
    "\n",
    "# coeficients Qn(L)/Sn(L) and Sn(L)/Pn(L) theres no need for coeficients\n",
    "# for PiPi boundary condition\n",
    "\n",
    "F = (np.cosh(an)- np.cos(an))/(np.sinh(an)-np.sin(an))  # Qn(L)/Sn(L) for FeFe and FiFi\n",
    "K = (np.sinh(zn)- np.sin(zn))/(np.cosh(zn)-np.cos(zn))  # Sn(L)/Pn(L) for FiFe\n",
    "Q = (np.cosh(un)- np.cos(un))/(np.sinh(un)-np.sin(un))  # Qn(L)/Sn(L) for FiPi        \n",
    "    \n",
    "# dividing the spatial frecuencies by L to get de Bn value for each b.c.\n",
    "\n",
    "an = an/L #FeFe & FiFi\n",
    "zn = zn/L #FiFe\n",
    "un = un/L #FiPi\n",
    "pn = pn/L #PiPi\n",
    "\n",
    "'''\n",
    " Naturel frecuencies Wn=2*pi*fn fn=nat.frecuency\n",
    " fn=Wn/(2*pi)=(Bn^2*(SQRT((E*I)/(Ro*A)))/2*pi\n",
    "'''\n",
    "\n",
    "fna = (an**2*np.sqrt((E*Ix)/(Rho*A)))/(2*np.pi) # FeFe & FiFi\n",
    "fnz = (zn**2*np.sqrt((E*Ix)/(Rho*A)))/(2*np.pi) # FiFe\n",
    "fnu = (un**2*np.sqrt((E*Ix)/(Rho*A)))/(2*np.pi) # FiPi\n",
    "fnp = (pn**2*np.sqrt((E*Ix)/(Rho*A)))/(2*np.pi) # PiPi"
   ]
  },
  {
   "cell_type": "code",
   "execution_count": null,
   "metadata": {},
   "outputs": [],
   "source": [
    "N = int(input('Choose number of nodes along the beam = '))\n",
    "x = np.linspace(0, L, N)\n",
    "xl =  x/L\n",
    "\n",
    "shape = (4, len(x))\n",
    "Xnx0 = np.zeros(shape)# FeFe with 4 rows for each of the first spatial frecuencies and all the columns needed to cover al the linspace of \"x\"\n",
    "Xnx1 = np.zeros(shape)# FiFe\n",
    "Xnx2 = np.zeros(shape)# FiPi\n",
    "Xnx3 = np.zeros(shape)# FiFi\n",
    "Xnx4 = np.zeros(shape)# PiPi\n",
    "\n",
    "for ii in range(4):\n",
    "    Xnx0[ii,:] = np.cosh(an[ii]*x)+np.cos(an[ii]*x)-F[ii]*(np.sinh(an[ii]*x)+np.sin(an[ii]*x))\n",
    "    Xnx1[ii,:] = np.cosh(zn[ii]*x)-np.cos(zn[ii]*x)-K[ii]*(np.sinh(zn[ii]*x)-np.sin(zn[ii]*x))\n",
    "    Xnx2[ii,:] = np.cosh(un[ii]*x)-np.cos(un[ii]*x)-Q[ii]*(np.sinh(un[ii]*x)-np.sin(un[ii]*x))\n",
    "    Xnx3[ii,:] = np.cosh(an[ii]*x)-np.cos(an[ii]*x)-F[ii]*(np.sinh(an[ii]*x)-np.sin(an[ii]*x))\n",
    "    Xnx4[ii,:] = np.sin(pn[ii]*x)       "
   ]
  },
  {
   "cell_type": "code",
   "execution_count": null,
   "metadata": {},
   "outputs": [],
   "source": [
    "##    Natural Frequency, W can get User Input\n",
    "##    in that case comment 'W = 34' and uncomment the next line to get user input.\n",
    "##    W = float(input('Enter W (Natural Frequency) in [per second]=  '))\n",
    "\n",
    "W = 34 \n",
    "Bt = np.sqrt(W/(2*np.pi*L*np.sqrt((E*Ix)/(Rho*A))))\n",
    "t = np.linspace(0, L, N)\n",
    "tl = t/L\n",
    "\n",
    "Ft = (np.cosh(Bt*(L**2))-np.cos(Bt*(L**2)))/(np.sinh(Bt*(L**2))-np.sin(Bt*(L**2)))    # Qn(L)/Sn(L) for FeFe and FiFi\n",
    "Kt = (np.sinh(Bt*(L**2))-np.sin(Bt*(L**2)))/(np.cosh(Bt*(L**2))-np.cos(Bt*(L**2)))    # Sn(L)/Pn(L) for FiFe\n",
    "Qt = (np.cosh(Bt*(L**2))-np.cos(Bt*(L**2)))/(np.sinh(Bt*(L**2))-np.sin(Bt*(L**2)))    # Qn(L)/Sn(L) for FiPi\n",
    "\n",
    "ss = (1,len(x))\n",
    "Xx0 = np.zeros_like(x)\n",
    "Xx1 = np.zeros_like(x)\n",
    "Xx2 = np.zeros_like(x)\n",
    "Xx3 = np.zeros_like(x)\n",
    "Xx4 = np.zeros_like(x)\n",
    "\n",
    "for j in range(len(x)):\n",
    "    Xx0[j]= np.cosh(Bt*x[j])+np.cos(Bt*x[j])-Ft*(np.sinh(Bt*x[j])+np.sin(Bt*x[j]))      # FeFe\n",
    "    Xx1[j]= np.cosh(Bt*x[j])-np.cos(Bt*x[j])-Kt*(np.sinh(Bt*x[j])-np.sin(Bt*x[j]))      # FiFe\n",
    "    Xx2[j] = np.cosh(Bt*x[j])-np.cos(Bt*x[j])-Qt*(np.sinh(Bt*x[j])-np.sin(Bt*x[j]))     # FiPi\n",
    "    Xx3[j] = np.cosh(Bt*x[j])-np.cos(Bt*x[j])-Ft*(np.sinh(Bt*x[j])-np.sin(Bt*x[j]))     # FiFi\n",
    "    Xx4[j] = np.sin(Bt*x[j])                                                            # PiPi\n",
    "        \n",
    "Tt1 = np.zeros(len(t))\n",
    "Tt1 = np.vstack(np.cos(W*t))\n",
    "\n",
    "Mv0=Tt1*Xx0\n",
    "Mv1=Tt1*Xx1\n",
    "Mv2=Tt1*Xx2\n",
    "Mv3=Tt1*Xx3\n",
    "Mv4=Tt1*Xx4"
   ]
  },
  {
   "cell_type": "markdown",
   "metadata": {},
   "source": [
    "### Plotting"
   ]
  },
  {
   "cell_type": "code",
   "execution_count": null,
   "metadata": {},
   "outputs": [],
   "source": [
    "modes = [Xnx0,Xnx1,Xnx2,Xnx3,Xnx4]\n",
    "titles =['Free-Free','Fixed-Free','Fixed-Pinned','Fixed-Fixed','Pinned-Pinned']\n",
    "for j in range (len(modes)):\n",
    "    temp = modes[j]\n",
    "    figure = plt.figure() \n",
    "    for ii in range(4):\n",
    "        plt.plot(xl,temp[ii,:])\n",
    "        plt.xlabel('x/L')\n",
    "        plt.ylabel('Mode Shape')\n",
    "        plt.title(\"Boundary Condition: %s\" %titles[j]) \n",
    "    "
   ]
  },
  {
   "cell_type": "markdown",
   "metadata": {},
   "source": [
    "## Interactive Plotting\n",
    "This is for creating interactive plotting for the same thing shown above. The user can select the modeshape and boundary conditions in this case."
   ]
  },
  {
   "cell_type": "code",
   "execution_count": null,
   "metadata": {
    "scrolled": false
   },
   "outputs": [],
   "source": [
    "###########################################################################\n",
    "# Interactive plotting for different mode shapes\n",
    "# and different Boundary Conditions.\n",
    "#\n",
    "###########################################################################\n",
    "from ipywidgets import interact, IntSlider, RadioButtons\n",
    "mode_slider = IntSlider(min=0, max=3, step=1, value=1)\n",
    "bc_buttons = RadioButtons(options=['Free-Free', 'Fixed-Free', 'Fixed-Pinned','Fixed-Fixed','Pinned-Pinned'])\n",
    "animation = IntSlider(min=0, max = 180, step=1,value=1)\n",
    "\n",
    "###########################################################################\n",
    "\n",
    "plt.close()\n",
    "@interact(Mode=mode_slider, Boundary_Condition=bc_buttons, Anim=animation)\n",
    "def plot(Mode, Boundary_Condition):\n",
    "    fig, ax = plt.subplots(figsize=(8, 6))\n",
    "    if (Boundary_Condition == 'Free-Free'):\n",
    "        PP = Xnx0\n",
    "        P = Mv0\n",
    "    elif (Boundary_Condition == 'Fixed-Free'):\n",
    "        PP = Xnx1\n",
    "        P = Mv1        \n",
    "    elif (Boundary_Condition == 'Fixed-Pinned'):\n",
    "        PP = Xnx2\n",
    "        P = Mv2\n",
    "    elif (Boundary_Condition == 'Fixed-Fixed'):\n",
    "        PP = Xnx3\n",
    "        P = Mv3\n",
    "    elif (Boundary_Condition == 'Pinned-Pinned'):    \n",
    "        PP = Xnx4\n",
    "        P = Mv4\n",
    "        \n",
    "    ax.grid(color='w', linewidth=2, linestyle='solid')\n",
    "    ax.plot(xl, PP[Mode,:],\n",
    "        lw=3, alpha=0.6)\n",
    "    plt.xlabel('x/L')\n",
    "    plt.ylabel('Mode shape')    "
   ]
  },
  {
   "cell_type": "markdown",
   "metadata": {},
   "source": [
    "## How about animate the beam ?\n",
    "We can also animate the boundary condition in the following way:"
   ]
  },
  {
   "cell_type": "code",
   "execution_count": null,
   "metadata": {
    "scrolled": true
   },
   "outputs": [],
   "source": [
    "#  Animate the beam\n",
    "#  For this we need to use the inemagic %matplotlib qt to get the figure out of the browser.\n",
    "#  User will be asked to select the boundary condition of the beam.\n",
    "\n",
    "#%matplotlib qt\n",
    "%matplotlib inline\n",
    "from mpl_toolkits.mplot3d import axes3d\n",
    "from matplotlib import cm\n",
    "\n",
    "print('Boundary Conditions Selector:\\n Free-Free:1\\t Fixed-Free:2\\t Fixed-Pinned:3\\t Fixed-Fixed:4\\t Pinned-Pinned:5 ')\n",
    "temp = int(input('Enter value [number] =  '))\n",
    "\n",
    "if (temp == 1):\n",
    "    P = Mv0\n",
    "elif (temp == 2):\n",
    "    P = Mv1\n",
    "elif (temp == 3):    \n",
    "    P = Mv2\n",
    "elif (temp == 4):\n",
    "    P = Mv3\n",
    "elif (temp == 5):\n",
    "    P = Mv4\n",
    "    \n",
    "temp2 = ['Free-Free','Fixed-Free','Fixed-Pinned','Fixed-Fixed','Pinned-Pinned']\n",
    "\n",
    "for i in range(len(xl)):\n",
    "    fig, ax1 = plt.subplots(1, 1, figsize=(8, 12), subplot_kw={'projection': '3d'})\n",
    "    ttt = temp2[temp-1]\n",
    "    plt.title(\"Boundary Condition: %s\" %ttt) \n",
    "    ax1.plot(xs=xl, ys=[0]*len(xl),c='r', zs=P[i,:], zdir='z', label='ys=0, zdir=z')\n",
    "    ax1.set_xlabel('x/L')\n",
    "    zmin=min(P[i,:])\n",
    "    zmax = max(P[i,:])\n",
    "    ax1.set_zlim(-2,2)\n",
    "    plt.pause(0.00001)\n",
    "    plt.close()   \n",
    "    #plt.show()"
   ]
  },
  {
   "cell_type": "code",
   "execution_count": null,
   "metadata": {},
   "outputs": [],
   "source": []
  },
  {
   "cell_type": "code",
   "execution_count": null,
   "metadata": {},
   "outputs": [],
   "source": []
  }
 ],
 "metadata": {
  "kernelspec": {
   "display_name": "Python 3",
   "language": "python",
   "name": "python3"
  },
  "language_info": {
   "codemirror_mode": {
    "name": "ipython",
    "version": 3
   },
   "file_extension": ".py",
   "mimetype": "text/x-python",
   "name": "python",
   "nbconvert_exporter": "python",
   "pygments_lexer": "ipython3",
   "version": "3.7.4"
  },
  "widgets": {
   "state": {
    "0dc1751d143b41eda5bdfeba9923e347": {
     "views": []
    },
    "26c4b0b7f0d04bf8a995f3eccfd21dc7": {
     "views": [
      {
       "cell_index": 21
      }
     ]
    },
    "588513526e014e3e98cffe68f8162bd9": {
     "views": []
    },
    "5fe3fa42835140928a084960c57310cb": {
     "views": []
    },
    "9b017085423c48c18fa347fcc4492fde": {
     "views": []
    },
    "d7299424aa134dcdbf38c443789fcf3d": {
     "views": []
    }
   },
   "version": "1.1.2"
  }
 },
 "nbformat": 4,
 "nbformat_minor": 1
}
